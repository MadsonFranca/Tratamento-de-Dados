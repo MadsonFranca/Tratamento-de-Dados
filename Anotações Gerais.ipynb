{
 "cells": [
  {
   "cell_type": "markdown",
   "metadata": {},
   "source": [
    "> POWER BI\n",
    ">\n",
    "> Dashboards:\n",
    ">\n",
    "> Cores:\n",
    ">\n",
    "> Ícones:\n",
    ">\n",
    "> Modelo Dashboard Microsoft\n",
    ">\n",
    "> VBA\n",
    ">\n",
    "> POWER POINT  \n",
    ">   \n",
    "> <u>Exemplos Power Point</u>  \n",
    "> <u>Exemplos Slides</u>\n",
    ">\n",
    "> ACCES"
   ],
   "id": "a20d606f-0eb8-4dab-9c86-74386cf8cbe6"
  }
 ],
 "nbformat": 4,
 "nbformat_minor": 5,
 "metadata": {}
}
